{
 "cells": [
  {
   "cell_type": "markdown",
   "metadata": {},
   "source": [
    "# Continuous Control\n",
    "\n",
    "---\n",
    "\n",
    "You are welcome to use this coding environment to train your agent for the project.  Follow the instructions below to get started!\n",
    "\n",
    "### 1. Start the Environment\n",
    "\n",
    "Run the next code cell to install a few packages.  This line will take a few minutes to run!"
   ]
  },
  {
   "cell_type": "code",
   "execution_count": 1,
   "metadata": {},
   "outputs": [
    {
     "name": "stdout",
     "output_type": "stream",
     "text": [
      "\u001b[31mtensorflow 1.7.1 has requirement numpy>=1.13.3, but you'll have numpy 1.12.1 which is incompatible.\u001b[0m\r\n",
      "\u001b[31mipython 6.5.0 has requirement prompt-toolkit<2.0.0,>=1.0.15, but you'll have prompt-toolkit 3.0.5 which is incompatible.\u001b[0m\r\n"
     ]
    }
   ],
   "source": [
    "!pip -q install ./python"
   ]
  },
  {
   "cell_type": "markdown",
   "metadata": {},
   "source": [
    "The environments corresponding to both versions of the environment are already saved in the Workspace and can be accessed at the file paths provided below.  \n",
    "\n",
    "Please select one of the two options below for loading the environment."
   ]
  },
  {
   "cell_type": "code",
   "execution_count": 2,
   "metadata": {},
   "outputs": [
    {
     "name": "stderr",
     "output_type": "stream",
     "text": [
      "INFO:unityagents:\n",
      "'Academy' started successfully!\n",
      "Unity Academy name: Academy\n",
      "        Number of Brains: 1\n",
      "        Number of External Brains : 1\n",
      "        Lesson number : 0\n",
      "        Reset Parameters :\n",
      "\t\tgoal_size -> 5.0\n",
      "\t\tgoal_speed -> 1.0\n",
      "Unity brain name: ReacherBrain\n",
      "        Number of Visual Observations (per agent): 0\n",
      "        Vector Observation space type: continuous\n",
      "        Vector Observation space size (per agent): 33\n",
      "        Number of stacked Vector Observation: 1\n",
      "        Vector Action space type: continuous\n",
      "        Vector Action space size (per agent): 4\n",
      "        Vector Action descriptions: , , , \n"
     ]
    }
   ],
   "source": [
    "from unityagents import UnityEnvironment\n",
    "import numpy as np\n",
    "\n",
    "# select this option to load version 1 (with a single agent) of the environment\n",
    "#env = UnityEnvironment(file_name='/data/Reacher_One_Linux_NoVis/Reacher_One_Linux_NoVis.x86_64')\n",
    "\n",
    "# select this option to load version 2 (with 20 agents) of the environment\n",
    "env = UnityEnvironment(file_name='/data/Reacher_Linux_NoVis/Reacher.x86_64')"
   ]
  },
  {
   "cell_type": "markdown",
   "metadata": {},
   "source": [
    "Environments contain **_brains_** which are responsible for deciding the actions of their associated agents. Here we check for the first brain available, and set it as the default brain we will be controlling from Python."
   ]
  },
  {
   "cell_type": "code",
   "execution_count": 3,
   "metadata": {},
   "outputs": [],
   "source": [
    "# get the default brain\n",
    "brain_name = env.brain_names[0]\n",
    "brain = env.brains[brain_name]"
   ]
  },
  {
   "cell_type": "markdown",
   "metadata": {},
   "source": [
    "### 2. Examine the State and Action Spaces\n",
    "\n",
    "Run the code cell below to print some information about the environment."
   ]
  },
  {
   "cell_type": "code",
   "execution_count": 4,
   "metadata": {},
   "outputs": [
    {
     "name": "stdout",
     "output_type": "stream",
     "text": [
      "Number of agents: 20\n",
      "Size of each action: 4\n",
      "There are 20 agents. Each observes a state with length: 33\n",
      "The state for the first agent looks like: [  0.00000000e+00  -4.00000000e+00   0.00000000e+00   1.00000000e+00\n",
      "  -0.00000000e+00  -0.00000000e+00  -4.37113883e-08   0.00000000e+00\n",
      "   0.00000000e+00   0.00000000e+00   0.00000000e+00   0.00000000e+00\n",
      "   0.00000000e+00   0.00000000e+00  -1.00000000e+01   0.00000000e+00\n",
      "   1.00000000e+00  -0.00000000e+00  -0.00000000e+00  -4.37113883e-08\n",
      "   0.00000000e+00   0.00000000e+00   0.00000000e+00   0.00000000e+00\n",
      "   0.00000000e+00   0.00000000e+00   5.75471878e+00  -1.00000000e+00\n",
      "   5.55726624e+00   0.00000000e+00   1.00000000e+00   0.00000000e+00\n",
      "  -1.68164849e-01]\n"
     ]
    }
   ],
   "source": [
    "# reset the environment\n",
    "env_info = env.reset(train_mode=True)[brain_name]\n",
    "\n",
    "# number of agents\n",
    "num_agents = len(env_info.agents)\n",
    "print('Number of agents:', num_agents)\n",
    "\n",
    "# size of each action\n",
    "action_size = brain.vector_action_space_size\n",
    "print('Size of each action:', action_size)\n",
    "\n",
    "# examine the state space \n",
    "states = env_info.vector_observations\n",
    "state_size = states.shape[1]\n",
    "print('There are {} agents. Each observes a state with length: {}'.format(states.shape[0], state_size))\n",
    "print('The state for the first agent looks like:', states[0])"
   ]
  },
  {
   "cell_type": "markdown",
   "metadata": {},
   "source": [
    "### 3. Take Random Actions in the Environment\n",
    "\n",
    "In the next code cell, you will learn how to use the Python API to control the agent and receive feedback from the environment.\n",
    "\n",
    "Note that **in this coding environment, you will not be able to watch the agents while they are training**, and you should set `train_mode=True` to restart the environment."
   ]
  },
  {
   "cell_type": "code",
   "execution_count": 5,
   "metadata": {},
   "outputs": [
    {
     "name": "stdout",
     "output_type": "stream",
     "text": [
      "Total score (averaged over agents) this episode: 0.08349999813362956\n"
     ]
    }
   ],
   "source": [
    "env_info = env.reset(train_mode=True)[brain_name]      # reset the environment    \n",
    "states = env_info.vector_observations                  # get the current state (for each agent)\n",
    "scores = np.zeros(num_agents)                          # initialize the score (for each agent)\n",
    "while True:\n",
    "    actions = np.random.randn(num_agents, action_size) # select an action (for each agent)\n",
    "    actions = np.clip(actions, -1, 1)                  # all actions between -1 and 1\n",
    "    env_info = env.step(actions)[brain_name]           # send all actions to tne environment\n",
    "    next_states = env_info.vector_observations         # get next state (for each agent)\n",
    "    rewards = env_info.rewards                         # get reward (for each agent)\n",
    "    dones = env_info.local_done                        # see if episode finished\n",
    "    scores += env_info.rewards                         # update the score (for each agent)\n",
    "    states = next_states                               # roll over states to next time step\n",
    "    if np.any(dones):                                  # exit loop if episode finished\n",
    "        break\n",
    "print('Total score (averaged over agents) this episode: {}'.format(np.mean(scores)))"
   ]
  },
  {
   "cell_type": "markdown",
   "metadata": {},
   "source": [
    "When finished, you can close the environment."
   ]
  },
  {
   "cell_type": "code",
   "execution_count": 6,
   "metadata": {},
   "outputs": [],
   "source": [
    "#env.close()"
   ]
  },
  {
   "cell_type": "markdown",
   "metadata": {},
   "source": [
    "### 4. Train your agent\n",
    "\n",
    "A few **important notes**:\n",
    "- When training the environment, set `train_mode=True`, so that the line for resetting the environment looks like the following:\n",
    "```python\n",
    "env_info = env.reset(train_mode=True)[brain_name]\n",
    "```\n",
    "- In this coding environment, you will not be able to watch the agents while they are training.  However, **_after training the agents_**, you can download the saved model weights to watch the agents on your own machine! \n",
    "\n",
    "###### 4.1 Learning algorithm -  DDPG\n",
    "\n",
    "Deep Deterministic Policy Gradient was proposed in Continuous control with deep reinforcement learning(Lillicrap et al, 2015). DDPG is an off policy algorithm and can only be used only for continuous action spaces. It simultaneously learns a function and a policy. It's an actor critic algorithm and uses two neural networks. The algorithm also applies experience replay and target networks to stabilize the training. To boost exploration, the authors of the DDPG paper have used Ornstein-Uhlenbeck Process to add noise to the action output.\n",
    "\n",
    "<figure>\n",
    "    <img src=\"images/algorithm.png\" width=\"600\" height=\"400\">\n",
    "    <figcaption style = \"text-align:center; font-style:italic\">Taken from Continuous control with deep reinforcement learning(Lillicrap et al, 2015)</figcaption>\n",
    "</figure>\n",
    "    \n",
    "###### 4.1 Model architecture\n",
    "\n",
    "The Actor network consist of three fully connected layer with batchnormalization applied at the first layer. The network maps states to actions. It uses ReLU as activation function except the last layer where it use tanh. \n",
    "\n",
    "The critic network also consist of three fully connected layer with batchnormalization applied at the first layer. The network maps maps (state,action) pairs to Q-values. It uses ReLU as activation function in the first two layers and no activation function for the last layer.\n",
    "\n",
    "###### 4.1 Hyperparameters\n",
    "\n",
    "* fc1_units=400 # Number of nodes in the first hidden layer\n",
    "* fc2_units=300 # Number of nodes in the second hidden layer\n",
    "* BUFFER_SIZE = int(1e6) # replay buffer size\n",
    "* BATCH_SIZE = 128       # minibatch size\n",
    "* GAMMA = 0.99           # discount factor\n",
    "* TAU = 1e-3             # for soft update of target parameters\n",
    "* LR_ACTOR = 1e-3        # learning rate of the actor\n",
    "* LR_CRITIC = 1e-3       # learning rate of the critic\n",
    "* WEIGHT_DECAY = 0       # L2 weight decay\n",
    "* LEARN_EVERY = 20       # learning timestep interval\n",
    "* LEARN_NUM = 10            # number of learning passes\n",
    "* GRAD_CLIPPING = 1.0         # gradient clipping \n",
    "* OU_SIGMA = 0.2 # OU noise parameter\n",
    "* OU_THETA = 0.15 # OU noise parameter\n",
    "* EPSILON = 1.0         # for epsilon in the noise process (act step)\n",
    "* EPSILON_DECAY = 1e-6 3 epsilon decay rate\n",
    "* num_episodes=2500 # maximum number of training episodes\n",
    "* max_t=1000 # maximum number of timesteps per episode"
   ]
  },
  {
   "cell_type": "code",
   "execution_count": 7,
   "metadata": {},
   "outputs": [],
   "source": [
    "import numpy as np\n",
    "import random\n",
    "import time\n",
    "import torch\n",
    "\n",
    "import matplotlib.pyplot as plt\n",
    "%matplotlib inline\n",
    "\n",
    "from collections import deque\n",
    "from ddpg_agent import Agent\n",
    "from unityagents import UnityEnvironment"
   ]
  },
  {
   "cell_type": "code",
   "execution_count": 8,
   "metadata": {},
   "outputs": [],
   "source": [
    "seed = 3"
   ]
  },
  {
   "cell_type": "code",
   "execution_count": 9,
   "metadata": {},
   "outputs": [],
   "source": [
    "# DDPG function\n",
    "def ddpg(num_episodes=2500, max_t=1000, print_every=1, actor_weights_name='actor.pth', critic_weights_name='critic.pth'):\n",
    "    \"\"\"Deep Deterministic Policy Gradient\n",
    "    \n",
    "    Params\n",
    "    ======\n",
    "    n_episodes (int): maximum number of training episodes\n",
    "    max_t (int): maximum number of timesteps per episode\n",
    "    print_every (int): interval to display results\n",
    "    \n",
    "    \"\"\"\n",
    "    mean_scores = [] # list of mean scores from each episode\n",
    "    moving_avgs = [] # list of moving averages\n",
    "    best_score = -np.inf\n",
    "    scores_window = deque(maxlen=100) # mean score from last 100 episodes\n",
    "    \n",
    "    for i_episode in range(1, num_episodes + 1):\n",
    "        env_info = env.reset(train_mode=True)[brain_name] # reset environment\n",
    "        states = env_info.vector_observations # get current state for each observations\n",
    "        scores = np.zeros(num_agents) # initialize score for each agent\n",
    "        agent.reset()\n",
    "        start_time = time.time()\n",
    "        for t in range(max_t):\n",
    "            actions = agent.act(states, add_noise=True) # select an action\n",
    "            env_info = env.step(actions)[brain_name]  # send all actions to tne environment\n",
    "            next_states = env_info.vector_observations # get next state (for each agent)\n",
    "            rewards = env_info.rewards # get reward (for each agent)\n",
    "            dones = env_info.local_done # see if episode finished\n",
    "            # perform learning step\n",
    "            for state, action, reward, next_state, done in zip(states, actions, rewards, next_states, dones):\n",
    "                agent.step(state, action, reward, next_state, done, t)\n",
    "            states = next_states\n",
    "            scores += rewards\n",
    "            if np.any(dones):\n",
    "                break\n",
    "        duration = time.time() - start_time\n",
    "        mean_scores.append(np.mean(scores)) # save mean score for each episode\n",
    "        scores_window.append(mean_scores[-1]) # save mean score to window\n",
    "        moving_avgs.append(np.mean(scores_window)) # save moving average\n",
    "        \n",
    "        if i_episode % print_every == 0:\n",
    "            print(\"\\rEpisode {} ({}s)\\tMean: {:.1f}\\tMoving Avg: {:.1f}\"\\\n",
    "                  .format(i_episode, round(duration), mean_scores[-1], moving_avgs[-1]))\n",
    "        if moving_avgs[-1] >= 30.0:\n",
    "            print(\"\\nEnvironment solved in {:d} episodes.\\tAverage score: {:.2f}\"\\\n",
    "                 .format(i_episode, moving_avgs[-1]))\n",
    "            torch.save(agent.actor_local.state_dict(), actor_weights_name)\n",
    "            torch.save(agent.critic_local.state_dict(), critic_weights_name)\n",
    "            break\n",
    "            \n",
    "    return mean_scores, moving_avgs\n",
    "    "
   ]
  },
  {
   "cell_type": "code",
   "execution_count": 10,
   "metadata": {},
   "outputs": [],
   "source": [
    "# start the training loop\n",
    "agent = Agent(state_size=state_size, action_size=action_size, random_seed=seed)"
   ]
  },
  {
   "cell_type": "code",
   "execution_count": 11,
   "metadata": {},
   "outputs": [],
   "source": [
    "import workspace_utils"
   ]
  },
  {
   "cell_type": "code",
   "execution_count": null,
   "metadata": {},
   "outputs": [
    {
     "name": "stdout",
     "output_type": "stream",
     "text": [
      "Episode 1 (115s)\tMean: 1.0\tMoving Avg: 1.0\n",
      "Episode 2 (118s)\tMean: 2.0\tMoving Avg: 1.5\n",
      "Episode 3 (120s)\tMean: 2.1\tMoving Avg: 1.7\n",
      "Episode 4 (120s)\tMean: 2.9\tMoving Avg: 2.0\n",
      "Episode 5 (121s)\tMean: 3.0\tMoving Avg: 2.2\n",
      "Episode 6 (121s)\tMean: 2.7\tMoving Avg: 2.3\n",
      "Episode 7 (122s)\tMean: 4.2\tMoving Avg: 2.6\n",
      "Episode 8 (123s)\tMean: 5.3\tMoving Avg: 2.9\n",
      "Episode 9 (124s)\tMean: 5.9\tMoving Avg: 3.2\n",
      "Episode 10 (125s)\tMean: 7.0\tMoving Avg: 3.6\n",
      "Episode 11 (126s)\tMean: 7.3\tMoving Avg: 4.0\n",
      "Episode 12 (127s)\tMean: 7.0\tMoving Avg: 4.2\n",
      "Episode 13 (129s)\tMean: 9.6\tMoving Avg: 4.6\n",
      "Episode 14 (131s)\tMean: 10.8\tMoving Avg: 5.1\n",
      "Episode 15 (132s)\tMean: 11.9\tMoving Avg: 5.5\n",
      "Episode 16 (134s)\tMean: 12.3\tMoving Avg: 5.9\n",
      "Episode 17 (135s)\tMean: 12.2\tMoving Avg: 6.3\n",
      "Episode 18 (138s)\tMean: 13.7\tMoving Avg: 6.7\n",
      "Episode 19 (139s)\tMean: 13.3\tMoving Avg: 7.1\n",
      "Episode 20 (142s)\tMean: 16.0\tMoving Avg: 7.5\n",
      "Episode 21 (145s)\tMean: 17.1\tMoving Avg: 8.0\n",
      "Episode 22 (146s)\tMean: 18.2\tMoving Avg: 8.4\n",
      "Episode 23 (149s)\tMean: 17.9\tMoving Avg: 8.8\n",
      "Episode 24 (151s)\tMean: 18.1\tMoving Avg: 9.2\n",
      "Episode 25 (153s)\tMean: 19.6\tMoving Avg: 9.6\n",
      "Episode 26 (157s)\tMean: 20.0\tMoving Avg: 10.0\n",
      "Episode 27 (158s)\tMean: 22.9\tMoving Avg: 10.5\n",
      "Episode 28 (162s)\tMean: 22.4\tMoving Avg: 10.9\n",
      "Episode 29 (164s)\tMean: 18.9\tMoving Avg: 11.2\n",
      "Episode 30 (167s)\tMean: 22.2\tMoving Avg: 11.6\n",
      "Episode 31 (169s)\tMean: 26.0\tMoving Avg: 12.0\n",
      "Episode 32 (171s)\tMean: 28.5\tMoving Avg: 12.6\n",
      "Episode 33 (174s)\tMean: 26.6\tMoving Avg: 13.0\n",
      "Episode 34 (177s)\tMean: 28.9\tMoving Avg: 13.5\n",
      "Episode 35 (179s)\tMean: 28.2\tMoving Avg: 13.9\n",
      "Episode 36 (182s)\tMean: 28.3\tMoving Avg: 14.3\n",
      "Episode 37 (184s)\tMean: 28.7\tMoving Avg: 14.7\n",
      "Episode 38 (187s)\tMean: 29.5\tMoving Avg: 15.1\n",
      "Episode 39 (188s)\tMean: 32.2\tMoving Avg: 15.5\n",
      "Episode 40 (191s)\tMean: 30.9\tMoving Avg: 15.9\n",
      "Episode 41 (194s)\tMean: 34.8\tMoving Avg: 16.3\n",
      "Episode 42 (196s)\tMean: 34.4\tMoving Avg: 16.8\n",
      "Episode 43 (198s)\tMean: 34.6\tMoving Avg: 17.2\n",
      "Episode 44 (200s)\tMean: 34.3\tMoving Avg: 17.6\n",
      "Episode 45 (204s)\tMean: 35.2\tMoving Avg: 18.0\n",
      "Episode 46 (206s)\tMean: 35.5\tMoving Avg: 18.3\n",
      "Episode 47 (209s)\tMean: 36.5\tMoving Avg: 18.7\n",
      "Episode 48 (210s)\tMean: 36.8\tMoving Avg: 19.1\n",
      "Episode 49 (213s)\tMean: 36.3\tMoving Avg: 19.5\n",
      "Episode 50 (215s)\tMean: 37.0\tMoving Avg: 19.8\n",
      "Episode 51 (217s)\tMean: 37.3\tMoving Avg: 20.2\n",
      "Episode 52 (217s)\tMean: 37.2\tMoving Avg: 20.5\n",
      "Episode 53 (218s)\tMean: 37.2\tMoving Avg: 20.8\n",
      "Episode 54 (218s)\tMean: 37.9\tMoving Avg: 21.1\n",
      "Episode 55 (217s)\tMean: 37.6\tMoving Avg: 21.4\n",
      "Episode 56 (218s)\tMean: 38.2\tMoving Avg: 21.7\n",
      "Episode 57 (218s)\tMean: 38.1\tMoving Avg: 22.0\n",
      "Episode 58 (218s)\tMean: 38.1\tMoving Avg: 22.3\n",
      "Episode 59 (219s)\tMean: 36.8\tMoving Avg: 22.5\n",
      "Episode 60 (218s)\tMean: 33.1\tMoving Avg: 22.7\n",
      "Episode 61 (217s)\tMean: 25.6\tMoving Avg: 22.7\n",
      "Episode 62 (218s)\tMean: 27.0\tMoving Avg: 22.8\n",
      "Episode 63 (218s)\tMean: 27.6\tMoving Avg: 22.9\n",
      "Episode 64 (218s)\tMean: 17.7\tMoving Avg: 22.8\n",
      "Episode 65 (218s)\tMean: 19.7\tMoving Avg: 22.8\n",
      "Episode 66 (219s)\tMean: 24.9\tMoving Avg: 22.8\n",
      "Episode 67 (218s)\tMean: 26.9\tMoving Avg: 22.9\n",
      "Episode 68 (218s)\tMean: 26.3\tMoving Avg: 22.9\n",
      "Episode 69 (218s)\tMean: 33.2\tMoving Avg: 23.1\n",
      "Episode 70 (219s)\tMean: 30.5\tMoving Avg: 23.2\n",
      "Episode 71 (219s)\tMean: 34.3\tMoving Avg: 23.3\n",
      "Episode 72 (218s)\tMean: 34.3\tMoving Avg: 23.5\n",
      "Episode 73 (218s)\tMean: 32.5\tMoving Avg: 23.6\n",
      "Episode 74 (218s)\tMean: 34.4\tMoving Avg: 23.7\n",
      "Episode 75 (218s)\tMean: 36.2\tMoving Avg: 23.9\n",
      "Episode 76 (219s)\tMean: 36.4\tMoving Avg: 24.1\n",
      "Episode 77 (219s)\tMean: 36.7\tMoving Avg: 24.2\n",
      "Episode 78 (219s)\tMean: 36.9\tMoving Avg: 24.4\n",
      "Episode 79 (218s)\tMean: 38.4\tMoving Avg: 24.6\n",
      "Episode 80 (219s)\tMean: 38.4\tMoving Avg: 24.7\n",
      "Episode 81 (219s)\tMean: 38.5\tMoving Avg: 24.9\n",
      "Episode 82 (218s)\tMean: 38.7\tMoving Avg: 25.1\n",
      "Episode 83 (218s)\tMean: 38.3\tMoving Avg: 25.2\n",
      "Episode 84 (218s)\tMean: 38.6\tMoving Avg: 25.4\n",
      "Episode 85 (219s)\tMean: 38.9\tMoving Avg: 25.6\n",
      "Episode 86 (218s)\tMean: 38.7\tMoving Avg: 25.7\n",
      "Episode 87 (219s)\tMean: 39.1\tMoving Avg: 25.9\n",
      "Episode 88 (218s)\tMean: 38.6\tMoving Avg: 26.0\n",
      "Episode 89 (219s)\tMean: 38.7\tMoving Avg: 26.2\n",
      "Episode 90 (218s)\tMean: 38.5\tMoving Avg: 26.3\n",
      "Episode 91 (219s)\tMean: 38.6\tMoving Avg: 26.4\n"
     ]
    }
   ],
   "source": [
    "from workspace_utils import active_session\n",
    " \n",
    "with active_session():\n",
    "    scores, avgs = ddpg(actor_weights_name ='actor_twenty.pth', critic_weights_name='critic_twenty.pth')"
   ]
  },
  {
   "cell_type": "code",
   "execution_count": null,
   "metadata": {},
   "outputs": [],
   "source": [
    "# plot scores across episodes\n",
    "fig = plt.figure()\n",
    "ax = fig.add_subplot(111)\n",
    "plt.plot(np.arange(len(scores)), scores, label='DDPG')\n",
    "plt.plot(np.arange(len(scores)), avgs, c='r', label='Moving AVG')\n",
    "plt.ylabel('Score')\n",
    "plt.xlabel('Episode #')\n",
    "plt.legend(loc='upper left');\n",
    "plt.show()\n"
   ]
  },
  {
   "cell_type": "code",
   "execution_count": null,
   "metadata": {},
   "outputs": [],
   "source": [
    "env.close()"
   ]
  },
  {
   "cell_type": "markdown",
   "metadata": {},
   "source": [
    "### 5. Future ideas to improve the agent's performance\n",
    "\n",
    "* DDPG can be improved by using prioritized experience replay. \n",
    "* Fine-tuning of hperparameters can also lead to better results and faster training time."
   ]
  },
  {
   "cell_type": "code",
   "execution_count": null,
   "metadata": {},
   "outputs": [],
   "source": []
  }
 ],
 "metadata": {
  "kernelspec": {
   "display_name": "Python 3",
   "language": "python",
   "name": "python3"
  },
  "language_info": {
   "codemirror_mode": {
    "name": "ipython",
    "version": 3
   },
   "file_extension": ".py",
   "mimetype": "text/x-python",
   "name": "python",
   "nbconvert_exporter": "python",
   "pygments_lexer": "ipython3",
   "version": "3.6.3"
  }
 },
 "nbformat": 4,
 "nbformat_minor": 2
}
